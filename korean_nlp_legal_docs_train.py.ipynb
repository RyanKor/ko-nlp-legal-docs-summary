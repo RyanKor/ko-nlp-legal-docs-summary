{
 "cells": [
  {
   "cell_type": "code",
   "execution_count": 1,
   "id": "5b6fe365",
   "metadata": {},
   "outputs": [
    {
     "name": "stdout",
     "output_type": "stream",
     "text": [
      "WARNING:tensorflow:From <ipython-input-1-9ecfc3f514f0>:25: is_gpu_available (from tensorflow.python.framework.test_util) is deprecated and will be removed in a future version.\n",
      "Instructions for updating:\n",
      "Use `tf.config.list_physical_devices('GPU')` instead.\n"
     ]
    },
    {
     "data": {
      "text/plain": [
       "True"
      ]
     },
     "execution_count": 1,
     "metadata": {},
     "output_type": "execute_result"
    }
   ],
   "source": [
    "import pandas as pd\n",
    "import numpy as np\n",
    "import os\n",
    "import tensorflow as tf\n",
    "\n",
    "%matplotlib inline\n",
    "import matplotlib\n",
    "\n",
    "# 한글 폰트 설정\n",
    "import matplotlib.pyplot as plt\n",
    "import platform\n",
    "if platform.system() == 'Darwin': # mac\n",
    "        plt.rc('font', family='AppleGothic') \n",
    "else: # window or linux\n",
    "        plt.rc('font', family='NanumGothicCoding') \n",
    "        \n",
    "import warnings # warning message ignore\n",
    "warnings.filterwarnings(action='ignore')\n",
    "\n",
    "# gpu 사용 설정하기\n",
    "os.environ[\"CUDA_DEVICE_ORDER\"]=\"PCI_BUS_ID\";\n",
    "os.environ[\"CUDA_VISIBLE_DEVICES\"]=\"0\"; \n",
    "from tensorflow.python.client import device_lib\n",
    "device_lib.list_local_devices() # cpu, gpu 여부 확인\n",
    "tf.test.is_gpu_available()"
   ]
  },
  {
   "cell_type": "code",
   "execution_count": 2,
   "id": "3939192f",
   "metadata": {},
   "outputs": [],
   "source": [
    "# import zipfile\n",
    "\n",
    "# local_zip = \"./dataset.zip\"\n",
    "# zip_ref = zipfile.ZipFile(local_zip, 'r')\n",
    "# zip_ref.extractall('./')\n",
    "# zip_ref.close()\n",
    "\n",
    "# train_zip = \"./legal_docs_train.zip\"\n",
    "# zip_ref = zipfile.ZipFile(train_zip, 'r')\n",
    "# zip_ref.extractall('./')\n",
    "\n",
    "\n",
    "# test_zip = \"./legal_docs_test.zip\"\n",
    "# zip_ref = zipfile.ZipFile(test_zip, 'r')\n",
    "# zip_ref.extractall('./')\n",
    "# zip_ref.close()"
   ]
  },
  {
   "cell_type": "code",
   "execution_count": 30,
   "id": "ed4c74db",
   "metadata": {},
   "outputs": [
    {
     "data": {
      "text/plain": [
       "{'id': 196524,\n",
       " 'extractive': [13, 14, 15],\n",
       " 'article_original': ['[1] 의용 부동산등기법 제35조 제1항,',\n",
       "  '제60조 제1항은 등기를 신청함에는 등기원인을 증명하는 서면을 제출하여야 하고,',\n",
       "  '등기관리가 등기를 완료한 때에는 등기원인을 증명하는 서면',\n",
       "  '또는 신청서 부본에 등기번호,',\n",
       "  '신청서 수부(受附) 연월일,',\n",
       "  '수부번호(受附番號),',\n",
       "  '순위번호 및 등기제(登記濟)의 뜻을 기재하고,',\n",
       "  '등기소의 인을 압날하여 이를 등기권리자에게 환부하여야 한다고 규정하고 있다.',\n",
       "  '그러므로 매도증서에 위 규정에 따른 등기번호,',\n",
       "  '등기순위, 등기제 등의 기재와 등기소인이 날인되어 있는 사실이 인정된다면,',\n",
       "  '이는 등기 신청 시 등기원인을 증명하는 서면으로 제출되었다가 등기관리가 등기를 완료하고',\n",
       "  '등기권리자에게 되돌려준 것으로 보지 않을 수 없다.',\n",
       "  '따라서 특별한 사정이 없는 한 그 서면에 기재된 부동산에 관하여 그 기재의 등기번호와 순위번호에 따른 등기가 마쳐졌다고 인정하여야 한다.',\n",
       "  '[2] 민사소송법 제356조 제1항은 문서의 작성방식과 취지에 의하여 공무원이 직무상 작성한 것으로 인정한 때에는 이를 진정한 공문서로 추정한다고 규정하고 있으나,',\n",
       "  '위조 또는 변조 등 특별한 사정이 있다고 볼 만한 반증이 있는 경우에는 위와 같은 추정은 깨어진다.',\n",
       "  '[3] 매도증서 등에 등기소의 등기제(登記濟)의 기재가 첨가됨으로써 사문서와 공문서로 구성된 문서는 공증에 관한 문서와는 달라 공문서 부분 성립이 인정된다고 하여 바로 사문서 부분인 매도증서 자체의 진정성립이 추정되거나 인정될 수는 없다.']}"
      ]
     },
     "execution_count": 30,
     "metadata": {},
     "output_type": "execute_result"
    }
   ],
   "source": [
    "import json\n",
    "\n",
    "with open(\"train.json\", \"r\", encoding=\"utf-8-sig\") as f:\n",
    "\n",
    "    raw_json = json.load(f)\n",
    "\n",
    "raw_json[0]"
   ]
  },
  {
   "cell_type": "code",
   "execution_count": 29,
   "id": "4a8dc570",
   "metadata": {},
   "outputs": [
    {
     "data": {
      "text/html": [
       "<div>\n",
       "<style scoped>\n",
       "    .dataframe tbody tr th:only-of-type {\n",
       "        vertical-align: middle;\n",
       "    }\n",
       "\n",
       "    .dataframe tbody tr th {\n",
       "        vertical-align: top;\n",
       "    }\n",
       "\n",
       "    .dataframe thead th {\n",
       "        text-align: right;\n",
       "    }\n",
       "</style>\n",
       "<table border=\"1\" class=\"dataframe\">\n",
       "  <thead>\n",
       "    <tr style=\"text-align: right;\">\n",
       "      <th></th>\n",
       "      <th>id</th>\n",
       "      <th>extractive</th>\n",
       "      <th>article_original</th>\n",
       "    </tr>\n",
       "  </thead>\n",
       "  <tbody>\n",
       "    <tr>\n",
       "      <th>0</th>\n",
       "      <td>196524</td>\n",
       "      <td>[13, 14, 15]</td>\n",
       "      <td>[[1] 의용 부동산등기법 제35조 제1항,, 제60조 제1항은 등기를 신청함에는 ...</td>\n",
       "    </tr>\n",
       "    <tr>\n",
       "      <th>1</th>\n",
       "      <td>106984</td>\n",
       "      <td>[1, 2, 4]</td>\n",
       "      <td>[가. 주택개량을 위하여 조합원들이 스스로 결성한 주택개량재개발조합이 실시하는 재개...</td>\n",
       "    </tr>\n",
       "    <tr>\n",
       "      <th>2</th>\n",
       "      <td>190919</td>\n",
       "      <td>[1, 2, 3]</td>\n",
       "      <td>[금원의 목적 내지 성질상 국가나 지방자치단체와 특정인 사이에서만 수수,, 결제되어...</td>\n",
       "    </tr>\n",
       "    <tr>\n",
       "      <th>3</th>\n",
       "      <td>110573</td>\n",
       "      <td>[0, 2, 5]</td>\n",
       "      <td>[가. 자동차대여업자의 직원으로서는 운전면허 없는 운전자가 위조된 운전면허증의 복사...</td>\n",
       "    </tr>\n",
       "    <tr>\n",
       "      <th>4</th>\n",
       "      <td>156698</td>\n",
       "      <td>[0, 2, 3]</td>\n",
       "      <td>[소외회사의 평리사 6명을 제쳐 놓고 대표이사 3명만의 결의에 의하여 동회사의 대표...</td>\n",
       "    </tr>\n",
       "  </tbody>\n",
       "</table>\n",
       "</div>"
      ],
      "text/plain": [
       "       id    extractive                                   article_original\n",
       "0  196524  [13, 14, 15]  [[1] 의용 부동산등기법 제35조 제1항,, 제60조 제1항은 등기를 신청함에는 ...\n",
       "1  106984     [1, 2, 4]  [가. 주택개량을 위하여 조합원들이 스스로 결성한 주택개량재개발조합이 실시하는 재개...\n",
       "2  190919     [1, 2, 3]  [금원의 목적 내지 성질상 국가나 지방자치단체와 특정인 사이에서만 수수,, 결제되어...\n",
       "3  110573     [0, 2, 5]  [가. 자동차대여업자의 직원으로서는 운전면허 없는 운전자가 위조된 운전면허증의 복사...\n",
       "4  156698     [0, 2, 3]  [소외회사의 평리사 6명을 제쳐 놓고 대표이사 3명만의 결의에 의하여 동회사의 대표..."
      ]
     },
     "execution_count": 29,
     "metadata": {},
     "output_type": "execute_result"
    }
   ],
   "source": [
    "dic = {\"id\":[], \"extractive\":[], \"article_original\":[]}\n",
    "\n",
    "for raw in raw_json:\n",
    "    dic[\"id\"].append(raw[\"id\"])\n",
    "    dic[\"extractive\"].append(raw[\"extractive\"])\n",
    "    dic[\"article_original\"].append(raw[\"article_original\"])\n",
    "train_all = pd.DataFrame(dic)\n",
    "train_all.head()"
   ]
  },
  {
   "cell_type": "code",
   "execution_count": 31,
   "id": "88c50da4",
   "metadata": {},
   "outputs": [
    {
     "data": {
      "text/plain": [
       "{'id': 79095,\n",
       " 'article_original': ['승객이 놓고 내린 지하철의 전동차 바닥이나 선반 위에 있던 물건을 가지고 간 경우,',\n",
       "  '지하철의 승무원은 유실물법상 전동차의 관수자로서 승객이 잊고 내린 유실물을 교부받을 권능을 가질 뿐 전동차 안에 있는 승객의 물건을 점유한다고 할 수 없고,',\n",
       "  '그 유실물을 현실적으로 발견하지 않는 한 이에 대한 점유를 개시하였다고 할 수도 없으므로,',\n",
       "  '그 사이에 위와 같은 유실물을 발견하고',\n",
       "  '가져간 행위는 점유이탈물횡령죄에 해당함은 별론으로 하고',\n",
       "  '절도죄에 해당하지는 않는다.']}"
      ]
     },
     "execution_count": 31,
     "metadata": {},
     "output_type": "execute_result"
    }
   ],
   "source": [
    "with open(\"test.json\", \"r\", encoding=\"utf-8-sig\") as f:\n",
    "\n",
    "    raw_json = json.load(f)\n",
    "\n",
    "raw_json[0]"
   ]
  },
  {
   "cell_type": "code",
   "execution_count": 32,
   "id": "3404d47e",
   "metadata": {},
   "outputs": [
    {
     "data": {
      "text/html": [
       "<div>\n",
       "<style scoped>\n",
       "    .dataframe tbody tr th:only-of-type {\n",
       "        vertical-align: middle;\n",
       "    }\n",
       "\n",
       "    .dataframe tbody tr th {\n",
       "        vertical-align: top;\n",
       "    }\n",
       "\n",
       "    .dataframe thead th {\n",
       "        text-align: right;\n",
       "    }\n",
       "</style>\n",
       "<table border=\"1\" class=\"dataframe\">\n",
       "  <thead>\n",
       "    <tr style=\"text-align: right;\">\n",
       "      <th></th>\n",
       "      <th>id</th>\n",
       "      <th>article_original</th>\n",
       "    </tr>\n",
       "  </thead>\n",
       "  <tbody>\n",
       "    <tr>\n",
       "      <th>0</th>\n",
       "      <td>79095</td>\n",
       "      <td>[승객이 놓고 내린 지하철의 전동차 바닥이나 선반 위에 있던 물건을 가지고 간 경우...</td>\n",
       "    </tr>\n",
       "    <tr>\n",
       "      <th>1</th>\n",
       "      <td>204506</td>\n",
       "      <td>[[1] 영업비밀 보유자가 거래 상대방에게 영업비밀을 사용하도록 승낙하는 의사표시는...</td>\n",
       "    </tr>\n",
       "    <tr>\n",
       "      <th>2</th>\n",
       "      <td>142079</td>\n",
       "      <td>[[1] 구 상속세 및 증여세법(2010. 1. 1. 법률 제9916호로 개정되기 ...</td>\n",
       "    </tr>\n",
       "    <tr>\n",
       "      <th>3</th>\n",
       "      <td>110816</td>\n",
       "      <td>[가. 처분문서는 그 진정성립이 인정되는 이상 법원은 그 기재내용을 부인할 만한 분...</td>\n",
       "    </tr>\n",
       "    <tr>\n",
       "      <th>4</th>\n",
       "      <td>207249</td>\n",
       "      <td>[농지개량조합이 고용원을 일정기간 채용한 뒤 해임하고, 대부분 바로 그 다음날에 다...</td>\n",
       "    </tr>\n",
       "  </tbody>\n",
       "</table>\n",
       "</div>"
      ],
      "text/plain": [
       "       id                                   article_original\n",
       "0   79095  [승객이 놓고 내린 지하철의 전동차 바닥이나 선반 위에 있던 물건을 가지고 간 경우...\n",
       "1  204506  [[1] 영업비밀 보유자가 거래 상대방에게 영업비밀을 사용하도록 승낙하는 의사표시는...\n",
       "2  142079  [[1] 구 상속세 및 증여세법(2010. 1. 1. 법률 제9916호로 개정되기 ...\n",
       "3  110816  [가. 처분문서는 그 진정성립이 인정되는 이상 법원은 그 기재내용을 부인할 만한 분...\n",
       "4  207249  [농지개량조합이 고용원을 일정기간 채용한 뒤 해임하고, 대부분 바로 그 다음날에 다..."
      ]
     },
     "execution_count": 32,
     "metadata": {},
     "output_type": "execute_result"
    }
   ],
   "source": [
    "dic = {\"id\":[], \"article_original\":[]}\n",
    "\n",
    "for raw in raw_json:\n",
    "    dic[\"id\"].append(raw[\"id\"])\n",
    "    dic[\"article_original\"].append(raw[\"article_original\"])\n",
    "test_all = pd.DataFrame(dic)\n",
    "test_all.head()"
   ]
  },
  {
   "cell_type": "code",
   "execution_count": null,
   "id": "ff9b6a76",
   "metadata": {},
   "outputs": [],
   "source": []
  }
 ],
 "metadata": {
  "kernelspec": {
   "display_name": "TensorFlow 2.7 on Python 3.8 & CUDA 11.3",
   "language": "python",
   "name": "python3"
  },
  "language_info": {
   "codemirror_mode": {
    "name": "ipython",
    "version": 3
   },
   "file_extension": ".py",
   "mimetype": "text/x-python",
   "name": "python",
   "nbconvert_exporter": "python",
   "pygments_lexer": "ipython3",
   "version": "3.8.10"
  }
 },
 "nbformat": 4,
 "nbformat_minor": 5
}

{
 "cells": [
  {
   "cell_type": "code",
   "execution_count": 1,
   "id": "1dd7e4f8",
   "metadata": {},
   "outputs": [],
   "source": [
    "import pandas as pd\n",
    "import numpy as np\n",
    "import matplotlib.pyplot as plt\n",
    "import transformers\n",
    "import tensorflow as tf\n",
    "from itertools import chain\n",
    "\n",
    "# !pip install -U seaborn\n",
    "import seaborn as sns\n",
    "\n",
    "import matplotlib.pyplot as plt\n",
    "import platform\n",
    "if platform.system() == 'Darwin': # mac\n",
    "        plt.rc('font', family='AppleGothic') \n",
    "else: # window or linux\n",
    "        plt.rc('font', family='NanumGothicCoding') "
   ]
  },
  {
   "cell_type": "code",
   "execution_count": 2,
   "id": "82e2f8a0",
   "metadata": {
    "scrolled": true
   },
   "outputs": [
    {
     "data": {
      "text/html": [
       "<div>\n",
       "<style scoped>\n",
       "    .dataframe tbody tr th:only-of-type {\n",
       "        vertical-align: middle;\n",
       "    }\n",
       "\n",
       "    .dataframe tbody tr th {\n",
       "        vertical-align: top;\n",
       "    }\n",
       "\n",
       "    .dataframe thead th {\n",
       "        text-align: right;\n",
       "    }\n",
       "</style>\n",
       "<table border=\"1\" class=\"dataframe\">\n",
       "  <thead>\n",
       "    <tr style=\"text-align: right;\">\n",
       "      <th></th>\n",
       "      <th>id</th>\n",
       "      <th>extractive</th>\n",
       "      <th>article_original</th>\n",
       "    </tr>\n",
       "  </thead>\n",
       "  <tbody>\n",
       "    <tr>\n",
       "      <th>0</th>\n",
       "      <td>196524</td>\n",
       "      <td>[13, 14, 15]</td>\n",
       "      <td>[[1] 의용 부동산등기법 제35조 제1항,, 제60조 제1항은 등기를 신청함에는 ...</td>\n",
       "    </tr>\n",
       "    <tr>\n",
       "      <th>1</th>\n",
       "      <td>106984</td>\n",
       "      <td>[1, 2, 4]</td>\n",
       "      <td>[가. 주택개량을 위하여 조합원들이 스스로 결성한 주택개량재개발조합이 실시하는 재개...</td>\n",
       "    </tr>\n",
       "    <tr>\n",
       "      <th>2</th>\n",
       "      <td>190919</td>\n",
       "      <td>[1, 2, 3]</td>\n",
       "      <td>[금원의 목적 내지 성질상 국가나 지방자치단체와 특정인 사이에서만 수수,, 결제되어...</td>\n",
       "    </tr>\n",
       "    <tr>\n",
       "      <th>3</th>\n",
       "      <td>110573</td>\n",
       "      <td>[0, 2, 5]</td>\n",
       "      <td>[가. 자동차대여업자의 직원으로서는 운전면허 없는 운전자가 위조된 운전면허증의 복사...</td>\n",
       "    </tr>\n",
       "    <tr>\n",
       "      <th>4</th>\n",
       "      <td>156698</td>\n",
       "      <td>[0, 2, 3]</td>\n",
       "      <td>[소외회사의 평리사 6명을 제쳐 놓고 대표이사 3명만의 결의에 의하여 동회사의 대표...</td>\n",
       "    </tr>\n",
       "  </tbody>\n",
       "</table>\n",
       "</div>"
      ],
      "text/plain": [
       "       id    extractive                                   article_original\n",
       "0  196524  [13, 14, 15]  [[1] 의용 부동산등기법 제35조 제1항,, 제60조 제1항은 등기를 신청함에는 ...\n",
       "1  106984     [1, 2, 4]  [가. 주택개량을 위하여 조합원들이 스스로 결성한 주택개량재개발조합이 실시하는 재개...\n",
       "2  190919     [1, 2, 3]  [금원의 목적 내지 성질상 국가나 지방자치단체와 특정인 사이에서만 수수,, 결제되어...\n",
       "3  110573     [0, 2, 5]  [가. 자동차대여업자의 직원으로서는 운전면허 없는 운전자가 위조된 운전면허증의 복사...\n",
       "4  156698     [0, 2, 3]  [소외회사의 평리사 6명을 제쳐 놓고 대표이사 3명만의 결의에 의하여 동회사의 대표..."
      ]
     },
     "execution_count": 2,
     "metadata": {},
     "output_type": "execute_result"
    }
   ],
   "source": [
    "# 일단 기업 과제로 나온 데이터보다 양이 훨씬 더 많은 것을 볼 수 있음.\n",
    "train = pd.read_json(\"./data/train.json\", orient='records', encoding='utf-8-sig')\n",
    "train.head()"
   ]
  },
  {
   "cell_type": "code",
   "execution_count": 3,
   "id": "1d9324f7",
   "metadata": {
    "scrolled": true
   },
   "outputs": [
    {
     "data": {
      "text/html": [
       "<div>\n",
       "<style scoped>\n",
       "    .dataframe tbody tr th:only-of-type {\n",
       "        vertical-align: middle;\n",
       "    }\n",
       "\n",
       "    .dataframe tbody tr th {\n",
       "        vertical-align: top;\n",
       "    }\n",
       "\n",
       "    .dataframe thead th {\n",
       "        text-align: right;\n",
       "    }\n",
       "</style>\n",
       "<table border=\"1\" class=\"dataframe\">\n",
       "  <thead>\n",
       "    <tr style=\"text-align: right;\">\n",
       "      <th></th>\n",
       "      <th>id</th>\n",
       "      <th>article_original</th>\n",
       "    </tr>\n",
       "  </thead>\n",
       "  <tbody>\n",
       "    <tr>\n",
       "      <th>0</th>\n",
       "      <td>79095</td>\n",
       "      <td>[승객이 놓고 내린 지하철의 전동차 바닥이나 선반 위에 있던 물건을 가지고 간 경우...</td>\n",
       "    </tr>\n",
       "    <tr>\n",
       "      <th>1</th>\n",
       "      <td>204506</td>\n",
       "      <td>[[1] 영업비밀 보유자가 거래 상대방에게 영업비밀을 사용하도록 승낙하는 의사표시는...</td>\n",
       "    </tr>\n",
       "    <tr>\n",
       "      <th>2</th>\n",
       "      <td>142079</td>\n",
       "      <td>[[1] 구 상속세 및 증여세법(2010. 1. 1. 법률 제9916호로 개정되기 ...</td>\n",
       "    </tr>\n",
       "    <tr>\n",
       "      <th>3</th>\n",
       "      <td>110816</td>\n",
       "      <td>[가. 처분문서는 그 진정성립이 인정되는 이상 법원은 그 기재내용을 부인할 만한 분...</td>\n",
       "    </tr>\n",
       "    <tr>\n",
       "      <th>4</th>\n",
       "      <td>207249</td>\n",
       "      <td>[농지개량조합이 고용원을 일정기간 채용한 뒤 해임하고, 대부분 바로 그 다음날에 다...</td>\n",
       "    </tr>\n",
       "  </tbody>\n",
       "</table>\n",
       "</div>"
      ],
      "text/plain": [
       "       id                                   article_original\n",
       "0   79095  [승객이 놓고 내린 지하철의 전동차 바닥이나 선반 위에 있던 물건을 가지고 간 경우...\n",
       "1  204506  [[1] 영업비밀 보유자가 거래 상대방에게 영업비밀을 사용하도록 승낙하는 의사표시는...\n",
       "2  142079  [[1] 구 상속세 및 증여세법(2010. 1. 1. 법률 제9916호로 개정되기 ...\n",
       "3  110816  [가. 처분문서는 그 진정성립이 인정되는 이상 법원은 그 기재내용을 부인할 만한 분...\n",
       "4  207249  [농지개량조합이 고용원을 일정기간 채용한 뒤 해임하고, 대부분 바로 그 다음날에 다..."
      ]
     },
     "execution_count": 3,
     "metadata": {},
     "output_type": "execute_result"
    }
   ],
   "source": [
    "test = pd.read_json(\"./data/test.json\", orient='records', encoding='utf-8-sig')\n",
    "test.head()"
   ]
  },
  {
   "cell_type": "code",
   "execution_count": 4,
   "id": "6dc0f8d2",
   "metadata": {},
   "outputs": [
    {
     "data": {
      "text/html": [
       "<div>\n",
       "<style scoped>\n",
       "    .dataframe tbody tr th:only-of-type {\n",
       "        vertical-align: middle;\n",
       "    }\n",
       "\n",
       "    .dataframe tbody tr th {\n",
       "        vertical-align: top;\n",
       "    }\n",
       "\n",
       "    .dataframe thead th {\n",
       "        text-align: right;\n",
       "    }\n",
       "</style>\n",
       "<table border=\"1\" class=\"dataframe\">\n",
       "  <thead>\n",
       "    <tr style=\"text-align: right;\">\n",
       "      <th></th>\n",
       "      <th>id</th>\n",
       "      <th>extractive</th>\n",
       "      <th>article_original</th>\n",
       "      <th>extractive_sents</th>\n",
       "    </tr>\n",
       "  </thead>\n",
       "  <tbody>\n",
       "    <tr>\n",
       "      <th>0</th>\n",
       "      <td>196524</td>\n",
       "      <td>[13, 14, 15]</td>\n",
       "      <td>[[1] 의용 부동산등기법 제35조 제1항,, 제60조 제1항은 등기를 신청함에는 ...</td>\n",
       "      <td>[[2] 민사소송법 제356조 제1항은 문서의 작성방식과 취지에 의하여 공무원이 직...</td>\n",
       "    </tr>\n",
       "    <tr>\n",
       "      <th>1</th>\n",
       "      <td>106984</td>\n",
       "      <td>[1, 2, 4]</td>\n",
       "      <td>[가. 주택개량을 위하여 조합원들이 스스로 결성한 주택개량재개발조합이 실시하는 재개...</td>\n",
       "      <td>[비록 조합원과 법률상 인격이 다른 조합이 그 공사비를 지급하였다거나 조합이 조합원...</td>\n",
       "    </tr>\n",
       "    <tr>\n",
       "      <th>2</th>\n",
       "      <td>190919</td>\n",
       "      <td>[1, 2, 3]</td>\n",
       "      <td>[금원의 목적 내지 성질상 국가나 지방자치단체와 특정인 사이에서만 수수,, 결제되어...</td>\n",
       "      <td>[결제되어야 하는 보조금교부채권은 성질상 양도가 금지된 것으로 보아야 하므로 강제집...</td>\n",
       "    </tr>\n",
       "    <tr>\n",
       "      <th>3</th>\n",
       "      <td>110573</td>\n",
       "      <td>[0, 2, 5]</td>\n",
       "      <td>[가. 자동차대여업자의 직원으로서는 운전면허 없는 운전자가 위조된 운전면허증의 복사...</td>\n",
       "      <td>[가. 자동차대여업자의 직원으로서는 운전면허 없는 운전자가 위조된 운전면허증의 복사...</td>\n",
       "    </tr>\n",
       "    <tr>\n",
       "      <th>4</th>\n",
       "      <td>156698</td>\n",
       "      <td>[0, 2, 3]</td>\n",
       "      <td>[소외회사의 평리사 6명을 제쳐 놓고 대표이사 3명만의 결의에 의하여 동회사의 대표...</td>\n",
       "      <td>[소외회사의 평리사 6명을 제쳐 놓고 대표이사 3명만의 결의에 의하여 동회사의 대표...</td>\n",
       "    </tr>\n",
       "  </tbody>\n",
       "</table>\n",
       "</div>"
      ],
      "text/plain": [
       "       id    extractive                                   article_original  \\\n",
       "0  196524  [13, 14, 15]  [[1] 의용 부동산등기법 제35조 제1항,, 제60조 제1항은 등기를 신청함에는 ...   \n",
       "1  106984     [1, 2, 4]  [가. 주택개량을 위하여 조합원들이 스스로 결성한 주택개량재개발조합이 실시하는 재개...   \n",
       "2  190919     [1, 2, 3]  [금원의 목적 내지 성질상 국가나 지방자치단체와 특정인 사이에서만 수수,, 결제되어...   \n",
       "3  110573     [0, 2, 5]  [가. 자동차대여업자의 직원으로서는 운전면허 없는 운전자가 위조된 운전면허증의 복사...   \n",
       "4  156698     [0, 2, 3]  [소외회사의 평리사 6명을 제쳐 놓고 대표이사 3명만의 결의에 의하여 동회사의 대표...   \n",
       "\n",
       "                                    extractive_sents  \n",
       "0  [[2] 민사소송법 제356조 제1항은 문서의 작성방식과 취지에 의하여 공무원이 직...  \n",
       "1  [비록 조합원과 법률상 인격이 다른 조합이 그 공사비를 지급하였다거나 조합이 조합원...  \n",
       "2  [결제되어야 하는 보조금교부채권은 성질상 양도가 금지된 것으로 보아야 하므로 강제집...  \n",
       "3  [가. 자동차대여업자의 직원으로서는 운전면허 없는 운전자가 위조된 운전면허증의 복사...  \n",
       "4  [소외회사의 평리사 6명을 제쳐 놓고 대표이사 3명만의 결의에 의하여 동회사의 대표...  "
      ]
     },
     "execution_count": 4,
     "metadata": {},
     "output_type": "execute_result"
    }
   ],
   "source": [
    "train['extractive_sents'] = train.apply(lambda row: list(np.array(row['article_original'])[row['extractive']]) , axis=1)\n",
    "train.head()"
   ]
  },
  {
   "cell_type": "code",
   "execution_count": 5,
   "id": "0857de16",
   "metadata": {},
   "outputs": [
    {
     "data": {
      "text/html": [
       "<div>\n",
       "<style scoped>\n",
       "    .dataframe tbody tr th:only-of-type {\n",
       "        vertical-align: middle;\n",
       "    }\n",
       "\n",
       "    .dataframe tbody tr th {\n",
       "        vertical-align: top;\n",
       "    }\n",
       "\n",
       "    .dataframe thead th {\n",
       "        text-align: right;\n",
       "    }\n",
       "</style>\n",
       "<table border=\"1\" class=\"dataframe\">\n",
       "  <thead>\n",
       "    <tr style=\"text-align: right;\">\n",
       "      <th></th>\n",
       "      <th>id</th>\n",
       "      <th>extractive</th>\n",
       "      <th>article_original</th>\n",
       "      <th>extractive_sents</th>\n",
       "      <th>no_extractive_sents</th>\n",
       "    </tr>\n",
       "  </thead>\n",
       "  <tbody>\n",
       "    <tr>\n",
       "      <th>0</th>\n",
       "      <td>196524</td>\n",
       "      <td>[13, 14, 15]</td>\n",
       "      <td>[[1] 의용 부동산등기법 제35조 제1항,, 제60조 제1항은 등기를 신청함에는 ...</td>\n",
       "      <td>[[2] 민사소송법 제356조 제1항은 문서의 작성방식과 취지에 의하여 공무원이 직...</td>\n",
       "      <td>[[1] 의용 부동산등기법 제35조 제1항,, 제60조 제1항은 등기를 신청함에는 ...</td>\n",
       "    </tr>\n",
       "    <tr>\n",
       "      <th>1</th>\n",
       "      <td>106984</td>\n",
       "      <td>[1, 2, 4]</td>\n",
       "      <td>[가. 주택개량을 위하여 조합원들이 스스로 결성한 주택개량재개발조합이 실시하는 재개...</td>\n",
       "      <td>[비록 조합원과 법률상 인격이 다른 조합이 그 공사비를 지급하였다거나 조합이 조합원...</td>\n",
       "      <td>[가. 주택개량을 위하여 조합원들이 스스로 결성한 주택개량재개발조합이 실시하는 재개...</td>\n",
       "    </tr>\n",
       "    <tr>\n",
       "      <th>2</th>\n",
       "      <td>190919</td>\n",
       "      <td>[1, 2, 3]</td>\n",
       "      <td>[금원의 목적 내지 성질상 국가나 지방자치단체와 특정인 사이에서만 수수,, 결제되어...</td>\n",
       "      <td>[결제되어야 하는 보조금교부채권은 성질상 양도가 금지된 것으로 보아야 하므로 강제집...</td>\n",
       "      <td>[금원의 목적 내지 성질상 국가나 지방자치단체와 특정인 사이에서만 수수,]</td>\n",
       "    </tr>\n",
       "    <tr>\n",
       "      <th>3</th>\n",
       "      <td>110573</td>\n",
       "      <td>[0, 2, 5]</td>\n",
       "      <td>[가. 자동차대여업자의 직원으로서는 운전면허 없는 운전자가 위조된 운전면허증의 복사...</td>\n",
       "      <td>[가. 자동차대여업자의 직원으로서는 운전면허 없는 운전자가 위조된 운전면허증의 복사...</td>\n",
       "      <td>[자동차를 대여하지는 아니하였을 것이므로, 나. 자동차운전자가 자동차대여업자로부터 ...</td>\n",
       "    </tr>\n",
       "    <tr>\n",
       "      <th>4</th>\n",
       "      <td>156698</td>\n",
       "      <td>[0, 2, 3]</td>\n",
       "      <td>[소외회사의 평리사 6명을 제쳐 놓고 대표이사 3명만의 결의에 의하여 동회사의 대표...</td>\n",
       "      <td>[소외회사의 평리사 6명을 제쳐 놓고 대표이사 3명만의 결의에 의하여 동회사의 대표...</td>\n",
       "      <td>[갑은 위 회사에 대하여 적어도 부당이득반환청구의 채권은 있다 할 것이며,, 원고들...</td>\n",
       "    </tr>\n",
       "  </tbody>\n",
       "</table>\n",
       "</div>"
      ],
      "text/plain": [
       "       id    extractive                                   article_original  \\\n",
       "0  196524  [13, 14, 15]  [[1] 의용 부동산등기법 제35조 제1항,, 제60조 제1항은 등기를 신청함에는 ...   \n",
       "1  106984     [1, 2, 4]  [가. 주택개량을 위하여 조합원들이 스스로 결성한 주택개량재개발조합이 실시하는 재개...   \n",
       "2  190919     [1, 2, 3]  [금원의 목적 내지 성질상 국가나 지방자치단체와 특정인 사이에서만 수수,, 결제되어...   \n",
       "3  110573     [0, 2, 5]  [가. 자동차대여업자의 직원으로서는 운전면허 없는 운전자가 위조된 운전면허증의 복사...   \n",
       "4  156698     [0, 2, 3]  [소외회사의 평리사 6명을 제쳐 놓고 대표이사 3명만의 결의에 의하여 동회사의 대표...   \n",
       "\n",
       "                                    extractive_sents  \\\n",
       "0  [[2] 민사소송법 제356조 제1항은 문서의 작성방식과 취지에 의하여 공무원이 직...   \n",
       "1  [비록 조합원과 법률상 인격이 다른 조합이 그 공사비를 지급하였다거나 조합이 조합원...   \n",
       "2  [결제되어야 하는 보조금교부채권은 성질상 양도가 금지된 것으로 보아야 하므로 강제집...   \n",
       "3  [가. 자동차대여업자의 직원으로서는 운전면허 없는 운전자가 위조된 운전면허증의 복사...   \n",
       "4  [소외회사의 평리사 6명을 제쳐 놓고 대표이사 3명만의 결의에 의하여 동회사의 대표...   \n",
       "\n",
       "                                 no_extractive_sents  \n",
       "0  [[1] 의용 부동산등기법 제35조 제1항,, 제60조 제1항은 등기를 신청함에는 ...  \n",
       "1  [가. 주택개량을 위하여 조합원들이 스스로 결성한 주택개량재개발조합이 실시하는 재개...  \n",
       "2          [금원의 목적 내지 성질상 국가나 지방자치단체와 특정인 사이에서만 수수,]  \n",
       "3  [자동차를 대여하지는 아니하였을 것이므로, 나. 자동차운전자가 자동차대여업자로부터 ...  \n",
       "4  [갑은 위 회사에 대하여 적어도 부당이득반환청구의 채권은 있다 할 것이며,, 원고들...  "
      ]
     },
     "execution_count": 5,
     "metadata": {},
     "output_type": "execute_result"
    }
   ],
   "source": [
    "train['no_extractive_sents'] = train.apply(lambda row: [sent for sent in row['article_original'] if sent not in row['extractive_sents']] , axis=1)\n",
    "train.head()"
   ]
  },
  {
   "cell_type": "code",
   "execution_count": 6,
   "id": "55635297",
   "metadata": {},
   "outputs": [
    {
     "name": "stderr",
     "output_type": "stream",
     "text": [
      "/home/work/.local/lib/python3.8/site-packages/seaborn/_decorators.py:36: FutureWarning: Pass the following variable as a keyword arg: x. From version 0.12, the only valid positional argument will be `data`, and passing other arguments without an explicit keyword will result in an error or misinterpretation.\n",
      "  warnings.warn(\n"
     ]
    },
    {
     "data": {
      "text/plain": [
       "<AxesSubplot:xlabel='article_original'>"
      ]
     },
     "execution_count": 6,
     "metadata": {},
     "output_type": "execute_result"
    },
    {
     "data": {
      "image/png": "[encoded data removed]",
      "text/plain": [
       "<Figure size 1152x432 with 2 Axes>"
      ]
     },
     "metadata": {
      "needs_background": "light"
     },
     "output_type": "display_data"
    }
   ],
   "source": [
    "# article_original 문장 수 탐색\n",
    "# 대다수의 article은 4 ~ 10개 사이의 문장으로 구성되어 있음\n",
    "\n",
    "# sentence\n",
    "original_sent_counts = train[\"article_original\"].apply(len)\n",
    "\n",
    "fig, axs = plt.subplots(1, 2, figsize=(16, 6), gridspec_kw=dict(width_ratios=[4, 3]))\n",
    "sns.histplot(original_sent_counts, binwidth=1, ax=axs[0])\n",
    "sns.boxplot(original_sent_counts, ax=axs[1])"
   ]
  },
  {
   "cell_type": "code",
   "execution_count": 7,
   "id": "3bdbe0dd",
   "metadata": {},
   "outputs": [
    {
     "data": {
      "text/plain": [
       "count    24027.000000\n",
       "mean         9.568985\n",
       "std          6.516148\n",
       "min          4.000000\n",
       "25%          5.000000\n",
       "50%          7.000000\n",
       "75%         12.000000\n",
       "max         50.000000\n",
       "Name: article_original, dtype: float64"
      ]
     },
     "execution_count": 7,
     "metadata": {},
     "output_type": "execute_result"
    }
   ],
   "source": [
    "original_sent_counts.describe()"
   ]
  },
  {
   "cell_type": "code",
   "execution_count": 8,
   "id": "7213a636",
   "metadata": {},
   "outputs": [
    {
     "name": "stderr",
     "output_type": "stream",
     "text": [
      "/home/work/.local/lib/python3.8/site-packages/seaborn/_decorators.py:36: FutureWarning: Pass the following variable as a keyword arg: x. From version 0.12, the only valid positional argument will be `data`, and passing other arguments without an explicit keyword will result in an error or misinterpretation.\n",
      "  warnings.warn(\n"
     ]
    },
    {
     "data": {
      "text/plain": [
       "<AxesSubplot:xlabel='article_original'>"
      ]
     },
     "execution_count": 8,
     "metadata": {},
     "output_type": "execute_result"
    },
    {
     "data": {
      "image/png": "[encoded data removed]",
      "text/plain": [
       "<Figure size 1152x432 with 2 Axes>"
      ]
     },
     "metadata": {
      "needs_background": "light"
     },
     "output_type": "display_data"
    }
   ],
   "source": [
    "# word 수\n",
    "original_word_counts = train['article_original'].apply(lambda x:len(' '.join(x).split(' ')))\n",
    "\n",
    "fig, axs = plt.subplots(1, 2, figsize=(16, 6), gridspec_kw=dict(width_ratios=[4, 3]))\n",
    "sns.histplot(original_word_counts, binwidth=1, ax=axs[0])\n",
    "sns.boxplot(original_word_counts, ax=axs[1])"
   ]
  },
  {
   "cell_type": "code",
   "execution_count": 9,
   "id": "f16bb284",
   "metadata": {},
   "outputs": [
    {
     "data": {
      "text/plain": [
       "<BarContainer object of 50 artists>"
      ]
     },
     "execution_count": 9,
     "metadata": {},
     "output_type": "execute_result"
    },
    {
     "data": {
      "image/png": "[encoded data removed]",
      "text/plain": [
       "<Figure size 432x288 with 1 Axes>"
      ]
     },
     "metadata": {
      "needs_background": "light"
     },
     "output_type": "display_data"
    }
   ],
   "source": [
    "# extractive (정답 문항 레이블)의 위치 분포\n",
    "# 정답 인덱스는 0 ~ 49 사이에 분포하고 있고, 법원 판결문이기 때문에 대체로 앞에 위치한 것을 볼 수 있음\n",
    "# 반면 판결문의 내용 요약이 뒷쪽에 위치하는 경우는 거의 없고 인덱스가 40이 넘어가는 상황을 보기 힘듦.\n",
    "from collections import Counter\n",
    "label_cnt = []\n",
    "\n",
    "for i in train[\"extractive\"]:\n",
    "    label_cnt += i\n",
    "label_cnt = Counter(label_cnt)\n",
    "plt.bar(label_cnt.keys(), label_cnt.values(),color='g')"
   ]
  },
  {
   "cell_type": "code",
   "execution_count": 10,
   "id": "28e69cbb",
   "metadata": {},
   "outputs": [],
   "source": [
    "from sklearn.feature_extraction.text import CountVectorizer\n",
    "\n",
    "def get_top_ngram(corpus, n=None):\n",
    "    vec = CountVectorizer(ngram_range=(n, n)).fit(corpus)\n",
    "    bag_of_words = vec.transform(corpus)\n",
    "    sum_words = bag_of_words.sum(axis=0) \n",
    "    words_freq = [(word, sum_words[0, idx]) for word, idx in vec.vocabulary_.items()]\n",
    "    words_freq =sorted(words_freq, key = lambda x: x[1], reverse=True)\n",
    "    return words_freq[:20]"
   ]
  },
  {
   "cell_type": "code",
   "execution_count": 17,
   "id": "18fa9f33",
   "metadata": {},
   "outputs": [
    {
     "data": {
      "text/plain": [
       "Text(0.5, 0.98, 'Common bigrams')"
      ]
     },
     "execution_count": 17,
     "metadata": {},
     "output_type": "execute_result"
    },
    {
     "data": {
      "image/png": "[encoded data removed]",
      "text/plain": [
       "<Figure size 1080x1080 with 2 Axes>"
      ]
     },
     "metadata": {
      "needs_background": "light"
     },
     "output_type": "display_data"
    }
   ],
   "source": [
    "# 요약문과 요약문이 아닌 글에서 단어 빈도를 비교 시각화\n",
    "\n",
    "from konlpy.tag import Mecab\n",
    "tokenizer = Mecab()\n",
    "\n",
    "fig,ax=plt.subplots(1,2,figsize=(15,15))\n",
    "\n",
    "doc = train['extractive_sents'].apply(lambda tmp_list: ' '.join(tmp_list) )\n",
    "doc = doc.apply(lambda sent: ' '.join(tokenizer.morphs(sent)))\n",
    "top_n_bigrams=get_top_ngram(doc,2)[:20]\n",
    "x,y=map(list,zip(*top_n_bigrams))\n",
    "sns.barplot(x=y,y=x,ax=ax[0]).set_title('In extractive summary') # ,color=colors[i+1]\n",
    "\n",
    "doc = train['no_extractive_sents'].apply(lambda tmp_list: ' '.join(tmp_list) )\n",
    "doc = doc.apply(lambda sent: ' '.join(tokenizer.morphs(sent)))\n",
    "top_n_bigrams=get_top_ngram(doc,2)[:20]\n",
    "x,y=map(list,zip(*top_n_bigrams))\n",
    "sns.barplot(x=y,y=x,ax=ax[1]).set_title('Not in extractive summary') # ,color=colors[i+1]\n",
    "\n",
    "    \n",
    "fig.suptitle(\"Common bigrams\")"
   ]
  },
  {
   "cell_type": "code",
   "execution_count": 12,
   "id": "be85d0cb",
   "metadata": {},
   "outputs": [
    {
     "name": "stderr",
     "output_type": "stream",
     "text": [
      "The tokenizer class you load from this checkpoint is not the same type as the class this function is called from. It may result in unexpected tokenization. \n",
      "The tokenizer class you load from this checkpoint is 'GPT2Tokenizer'. \n",
      "The class this function is called from is 'PreTrainedTokenizerFast'.\n"
     ]
    }
   ],
   "source": [
    "from transformers import PreTrainedTokenizerFast\n",
    "\n",
    "tokenizer = PreTrainedTokenizerFast.from_pretrained(\"skt/kogpt2-base-v2\",\n",
    "  bos_token='</s>', eos_token='</s>', unk_token='<unk>',\n",
    "  pad_token='<pad>', mask_token='<mask>') "
   ]
  },
  {
   "cell_type": "code",
   "execution_count": 13,
   "id": "2a0857ac",
   "metadata": {},
   "outputs": [
    {
     "name": "stderr",
     "output_type": "stream",
     "text": [
      "Asking to truncate to max_length but no maximum length is provided and the model has no predefined maximum length. Default to no truncation.\n"
     ]
    },
    {
     "data": {
      "text/plain": [
       "['▁이건', '▁테', '스트', '▁인', '코', '딩', '입', '니', '다']"
      ]
     },
     "execution_count": 13,
     "metadata": {},
     "output_type": "execute_result"
    }
   ],
   "source": [
    "sample_encoding = tokenizer.tokenize(\"이건 테스트 인코딩입니다\", truncation=True, padding=True)\n",
    "sample_encoding"
   ]
  },
  {
   "cell_type": "code",
   "execution_count": 14,
   "id": "64288309",
   "metadata": {},
   "outputs": [],
   "source": [
    "# 문장 당 토큰 갯수 분포도 구하기\n",
    "token_per_sent = []\n",
    "for sent in range(len(train[\"article_original\"])):\n",
    "    encoding = []\n",
    "    for x in range(len(train[\"article_original\"][sent])):\n",
    "        encoding.append(tokenizer.encode(train[\"article_original\"][sent][x],truncation=True, add_special_tokens=True))\n",
    "    token_per_sent.append(len(encoding))"
   ]
  },
  {
   "cell_type": "code",
   "execution_count": 15,
   "id": "da89a68f",
   "metadata": {
    "scrolled": true
   },
   "outputs": [
    {
     "data": {
      "text/plain": [
       "(array([0.11871608, 0.05719109, 0.0186475 , 0.0116988 , 0.004732  ,\n",
       "        0.00316673, 0.00170098, 0.00066049, 0.00057001, 0.00030762]),\n",
       " array([ 4. ,  8.6, 13.2, 17.8, 22.4, 27. , 31.6, 36.2, 40.8, 45.4, 50. ]),\n",
       " <BarContainer object of 10 artists>)"
      ]
     },
     "execution_count": 15,
     "metadata": {},
     "output_type": "execute_result"
    },
    {
     "data": {
      "image/png": "[encoded data removed]",
      "text/plain": [
       "<Figure size 432x288 with 1 Axes>"
      ]
     },
     "metadata": {
      "needs_background": "light"
     },
     "output_type": "display_data"
    }
   ],
   "source": [
    "# 편차는 4.6개, 토큰의 평균 갯수는 약 9.57개가 분포되어 있음\n",
    "plt.hist(token_per_sent, bins=10, density=True)"
   ]
  },
  {
   "cell_type": "code",
   "execution_count": 16,
   "id": "2056966b",
   "metadata": {},
   "outputs": [
    {
     "name": "stdout",
     "output_type": "stream",
     "text": [
      "9.568984891996504\n"
     ]
    }
   ],
   "source": [
    "print(sum(token_per_sent)/len(token_per_sent))"
   ]
  }
 ],
 "metadata": {
  "kernelspec": {
   "display_name": "TensorFlow 2.7 on Python 3.8 & CUDA 11.3",
   "language": "python",
   "name": "python3"
  },
  "language_info": {
   "codemirror_mode": {
    "name": "ipython",
    "version": 3
   },
   "file_extension": ".py",
   "mimetype": "text/x-python",
   "name": "python",
   "nbconvert_exporter": "python",
   "pygments_lexer": "ipython3",
   "version": "3.8.10"
  }
 },
 "nbformat": 4,
 "nbformat_minor": 5
}
